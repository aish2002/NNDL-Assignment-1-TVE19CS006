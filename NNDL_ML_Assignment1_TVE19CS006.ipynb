{
  "nbformat": 4,
  "nbformat_minor": 0,
  "metadata": {
    "colab": {
      "name": "NNDL_ML_Assignment1_TVE19CS006.ipynb",
      "provenance": [],
      "collapsed_sections": []
    },
    "kernelspec": {
      "name": "python3",
      "display_name": "Python 3"
    },
    "language_info": {
      "name": "python"
    }
  },
  "cells": [
    {
      "cell_type": "markdown",
      "source": [
        "##COLLEGE OF ENGINEERING, TRIVANDRUM\n",
        "##DEPARTMENT OF COMPUTER SCIENCE & ENGINEERING\n",
        "##S5 CSE – FIRST ASSIGNMENT, 19th FEBRUARY 2022\n",
        "##CST 395:NEURAL NETWORKS AND DEEP LEARNING\n",
        "Aishwarya A J<br>\n",
        "TVE19CS006<br>\n",
        "S5 CS<br>\n",
        "Access the Github Repo From : [This Github Repo](https://github.com/aish2002/NNDL-Assignment-1-TVE19CS006)\n",
        "\n"
      ],
      "metadata": {
        "id": "XTWIcUi7yhsn"
      }
    },
    {
      "cell_type": "markdown",
      "source": [
        "**PROBLEM STATEMENT**\n",
        "\n",
        "Design a simple Neural Network on MNIST Handwritten Digit Dataset. You can\n",
        "decide the number of layers and number of neurons in your network. Use cross\n",
        "entropy loss function with adam optimizer for your model. The performance\n",
        "measurement can be done in terms of accuracy. Compare the performances of\n",
        "at least two different models created by you by varying the number of layers\n",
        "and number of neurons in hidden layers. Also write an analysis of your two\n",
        "models in terms of number of parameters and epochs."
      ],
      "metadata": {
        "id": "1zoBrTtE5UiH"
      }
    },
    {
      "cell_type": "code",
      "source": [
        "from numpy import mean\n",
        "from numpy import std\n",
        "from matplotlib import pyplot as plt\n",
        "from sklearn.model_selection import KFold\n",
        "from tensorflow.keras.datasets import mnist\n",
        "from tensorflow.keras.utils import to_categorical\n",
        "from tensorflow.keras.models import Sequential\n",
        "from tensorflow.keras.layers import Conv2D\n",
        "from tensorflow.keras.layers import MaxPooling2D\n",
        "from tensorflow.keras.layers import Dense\n",
        "from tensorflow.keras.layers import Flatten\n",
        "from tensorflow.keras.optimizers import Adam"
      ],
      "metadata": {
        "id": "6-JWT36-py4B"
      },
      "execution_count": 20,
      "outputs": []
    },
    {
      "cell_type": "code",
      "execution_count": 21,
      "metadata": {
        "colab": {
          "base_uri": "https://localhost:8080/"
        },
        "id": "IqK-WXcGnYfh",
        "outputId": "c3988358-ab9b-4223-c920-3c91dd7a453b"
      },
      "outputs": [
        {
          "output_type": "stream",
          "name": "stdout",
          "text": [
            "Train: X=(60000, 28, 28), y=(60000,)\n",
            "Test: X=(10000, 28, 28), y=(10000,)\n"
          ]
        }
      ],
      "source": [
        "# load dataset\n",
        "(trainX, trainy), (testX, testy) = mnist.load_data()\n",
        "# summarize loaded dataset\n",
        "print('Train: X=%s, y=%s' % (trainX.shape, trainy.shape))\n",
        "print('Test: X=%s, y=%s' % (testX.shape, testy.shape))"
      ]
    },
    {
      "cell_type": "code",
      "source": [
        "(trainX, trainY), (testX, testY) = mnist.load_data()\n",
        "\n",
        "# reshape dataset to have a single channel\n",
        "trainX = trainX.reshape((trainX.shape[0], 28, 28, 1))\n",
        "testX = testX.reshape((testX.shape[0], 28, 28, 1))"
      ],
      "metadata": {
        "id": "OWbZWjpJoFDC"
      },
      "execution_count": 22,
      "outputs": []
    },
    {
      "cell_type": "code",
      "source": [
        "from tensorflow.keras.utils import to_categorical\n",
        "\n",
        "# one hot encode target values\n",
        "trainY = to_categorical(trainY)\n",
        "testY = to_categorical(testY)"
      ],
      "metadata": {
        "id": "gCdkhuFNn5-h"
      },
      "execution_count": 23,
      "outputs": []
    },
    {
      "cell_type": "code",
      "source": [
        "# convert from integers to floats\n",
        "train_norm = trainX.astype('float32')\n",
        "test_norm = testX.astype('float32')\n",
        "# normalize to range 0-1\n",
        "trainX = train_norm / 255.0\n",
        "testX = test_norm / 255.0"
      ],
      "metadata": {
        "id": "Vrai0sxdoilV"
      },
      "execution_count": 24,
      "outputs": []
    },
    {
      "cell_type": "markdown",
      "source": [
        "First NN Model with 2 Layers"
      ],
      "metadata": {
        "id": "5EcaKCi_9OdG"
      }
    },
    {
      "cell_type": "code",
      "source": [
        "def define_model_1():\n",
        "\tmodel = Sequential()\n",
        "\tmodel.add(Flatten(input_shape=(28, 28)))\n",
        "\tmodel.add(Dense(260, activation='relu'))\n",
        "\tmodel.add(Dense(10, activation='softmax'))\n",
        "\t# compile model\n",
        "\topt = Adam(learning_rate=0.01)\n",
        "\tmodel.compile(optimizer=opt, loss='categorical_crossentropy', metrics=['accuracy'])\n",
        "\treturn model"
      ],
      "metadata": {
        "id": "_tkx01UbouGr"
      },
      "execution_count": 30,
      "outputs": []
    },
    {
      "cell_type": "code",
      "source": [
        "# evaluate a model using k-fold cross-validation\n",
        "def evaluate_model_1():\n",
        "    scores, histories = list(), list()\n",
        "    # define model\n",
        "    model = define_model_1()\n",
        "    print(model.summary())\n",
        "    # fit model\n",
        "    history = model.fit(trainX, trainY, epochs=10, batch_size=32, validation_data=(testX, testY), verbose=1)\n",
        "    # evaluate model\n",
        "    _, acc = model.evaluate(testX, testY, verbose=1)\n",
        "    print('> %.3f' % (acc * 100.0))\n",
        "    # stores scores\n",
        "    scores.append(acc)\n",
        "    histories.append(history)\n",
        "    return scores, histories"
      ],
      "metadata": {
        "id": "cxa4ol6AqMW-"
      },
      "execution_count": 31,
      "outputs": []
    },
    {
      "cell_type": "code",
      "source": [
        "scores, histories = evaluate_model_1()"
      ],
      "metadata": {
        "colab": {
          "base_uri": "https://localhost:8080/"
        },
        "id": "0B8Ympxsqz-l",
        "outputId": "5c2d1892-5e87-4c37-df70-67a071c9bb77"
      },
      "execution_count": 32,
      "outputs": [
        {
          "output_type": "stream",
          "name": "stdout",
          "text": [
            "Model: \"sequential_6\"\n",
            "_________________________________________________________________\n",
            " Layer (type)                Output Shape              Param #   \n",
            "=================================================================\n",
            " flatten_6 (Flatten)         (None, 784)               0         \n",
            "                                                                 \n",
            " dense_14 (Dense)            (None, 260)               204100    \n",
            "                                                                 \n",
            " dense_15 (Dense)            (None, 10)                2610      \n",
            "                                                                 \n",
            "=================================================================\n",
            "Total params: 206,710\n",
            "Trainable params: 206,710\n",
            "Non-trainable params: 0\n",
            "_________________________________________________________________\n",
            "None\n",
            "Epoch 1/10\n",
            "1875/1875 [==============================] - 7s 3ms/step - loss: 0.2432 - accuracy: 0.9283 - val_loss: 0.2230 - val_accuracy: 0.9374\n",
            "Epoch 2/10\n",
            "1875/1875 [==============================] - 6s 3ms/step - loss: 0.1647 - accuracy: 0.9546 - val_loss: 0.1617 - val_accuracy: 0.9559\n",
            "Epoch 3/10\n",
            "1875/1875 [==============================] - 6s 3ms/step - loss: 0.1413 - accuracy: 0.9626 - val_loss: 0.2061 - val_accuracy: 0.9534\n",
            "Epoch 4/10\n",
            "1875/1875 [==============================] - 6s 3ms/step - loss: 0.1298 - accuracy: 0.9655 - val_loss: 0.2017 - val_accuracy: 0.9613\n",
            "Epoch 5/10\n",
            "1875/1875 [==============================] - 6s 3ms/step - loss: 0.1268 - accuracy: 0.9685 - val_loss: 0.1833 - val_accuracy: 0.9624\n",
            "Epoch 6/10\n",
            "1875/1875 [==============================] - 6s 3ms/step - loss: 0.1125 - accuracy: 0.9727 - val_loss: 0.1734 - val_accuracy: 0.9652\n",
            "Epoch 7/10\n",
            "1875/1875 [==============================] - 6s 3ms/step - loss: 0.1091 - accuracy: 0.9728 - val_loss: 0.2273 - val_accuracy: 0.9610\n",
            "Epoch 8/10\n",
            "1875/1875 [==============================] - 6s 3ms/step - loss: 0.1004 - accuracy: 0.9757 - val_loss: 0.2114 - val_accuracy: 0.9642\n",
            "Epoch 9/10\n",
            "1875/1875 [==============================] - 6s 3ms/step - loss: 0.1029 - accuracy: 0.9754 - val_loss: 0.2331 - val_accuracy: 0.9671\n",
            "Epoch 10/10\n",
            "1875/1875 [==============================] - 6s 3ms/step - loss: 0.0998 - accuracy: 0.9768 - val_loss: 0.2347 - val_accuracy: 0.9672\n",
            "313/313 [==============================] - 1s 2ms/step - loss: 0.2347 - accuracy: 0.9672\n",
            "> 96.720\n"
          ]
        }
      ]
    },
    {
      "cell_type": "markdown",
      "source": [
        "Second NN Model with 4 Layers"
      ],
      "metadata": {
        "id": "YNSLXk-u9tMx"
      }
    },
    {
      "cell_type": "code",
      "source": [
        "def define_model_2():\n",
        "    model = Sequential()\n",
        "    model.add(Flatten(input_shape=(28, 28)))\n",
        "    model.add(Dense(260, activation='relu'))\n",
        "    model.add(Dense(140, activation='relu'))\n",
        "    model.add(Dense(78, activation='relu'))\n",
        "    model.add(Dense(10, activation='softmax'))\n",
        "    # compile model\n",
        "    opt = Adam(learning_rate=0.01)\n",
        "    model.compile(optimizer=opt, loss='categorical_crossentropy', metrics=['accuracy'])\n",
        "    return model"
      ],
      "metadata": {
        "id": "x6w_XnhNrRzK"
      },
      "execution_count": 43,
      "outputs": []
    },
    {
      "cell_type": "code",
      "source": [
        "# evaluate a model using k-fold cross-validation\n",
        "def evaluate_model_2():\n",
        "    scores, histories = list(), list()\n",
        "    # define model\n",
        "    model = define_model_2()\n",
        "    print(model.summary())\n",
        "    # fit model\n",
        "    history = model.fit(trainX, trainY, epochs=10, batch_size=32, validation_data=(testX, testY), verbose=1)\n",
        "    # evaluate model\n",
        "    _, acc = model.evaluate(testX, testY, verbose=1)\n",
        "    print('> %.3f' % (acc * 100.0))\n",
        "    # stores scores\n",
        "    scores.append(acc)\n",
        "    histories.append(history)\n",
        "    return scores, histories"
      ],
      "metadata": {
        "id": "JZ4eFXbOsasR"
      },
      "execution_count": 44,
      "outputs": []
    },
    {
      "cell_type": "markdown",
      "source": [
        "Execute the Second Model Training"
      ],
      "metadata": {
        "id": "aU81LR-E9yJ3"
      }
    },
    {
      "cell_type": "code",
      "source": [
        "scores, histories = evaluate_model_2()"
      ],
      "metadata": {
        "colab": {
          "base_uri": "https://localhost:8080/"
        },
        "id": "aAWnThTJtuBb",
        "outputId": "d8e93148-97bc-4460-c419-7d620a93ebfe"
      },
      "execution_count": 45,
      "outputs": [
        {
          "output_type": "stream",
          "name": "stdout",
          "text": [
            "Model: \"sequential_10\"\n",
            "_________________________________________________________________\n",
            " Layer (type)                Output Shape              Param #   \n",
            "=================================================================\n",
            " flatten_10 (Flatten)        (None, 784)               0         \n",
            "                                                                 \n",
            " dense_28 (Dense)            (None, 260)               204100    \n",
            "                                                                 \n",
            " dense_29 (Dense)            (None, 140)               36540     \n",
            "                                                                 \n",
            " dense_30 (Dense)            (None, 78)                10998     \n",
            "                                                                 \n",
            " dense_31 (Dense)            (None, 10)                790       \n",
            "                                                                 \n",
            "=================================================================\n",
            "Total params: 252,428\n",
            "Trainable params: 252,428\n",
            "Non-trainable params: 0\n",
            "_________________________________________________________________\n",
            "None\n",
            "Epoch 1/10\n",
            "1875/1875 [==============================] - 9s 5ms/step - loss: 0.3006 - accuracy: 0.9160 - val_loss: 0.1887 - val_accuracy: 0.9468\n",
            "Epoch 2/10\n",
            "1875/1875 [==============================] - 8s 4ms/step - loss: 0.2014 - accuracy: 0.9503 - val_loss: 0.1892 - val_accuracy: 0.9531\n",
            "Epoch 3/10\n",
            "1875/1875 [==============================] - 8s 4ms/step - loss: 0.1793 - accuracy: 0.9565 - val_loss: 0.1767 - val_accuracy: 0.9572\n",
            "Epoch 4/10\n",
            "1875/1875 [==============================] - 8s 4ms/step - loss: 0.1584 - accuracy: 0.9620 - val_loss: 0.1659 - val_accuracy: 0.9634\n",
            "Epoch 5/10\n",
            "1875/1875 [==============================] - 8s 4ms/step - loss: 0.1454 - accuracy: 0.9663 - val_loss: 0.2194 - val_accuracy: 0.9603\n",
            "Epoch 6/10\n",
            "1875/1875 [==============================] - 8s 4ms/step - loss: 0.1559 - accuracy: 0.9632 - val_loss: 0.1606 - val_accuracy: 0.9682\n",
            "Epoch 7/10\n",
            "1875/1875 [==============================] - 8s 4ms/step - loss: 0.1390 - accuracy: 0.9689 - val_loss: 0.1772 - val_accuracy: 0.9705\n",
            "Epoch 8/10\n",
            "1875/1875 [==============================] - 9s 5ms/step - loss: 0.1220 - accuracy: 0.9729 - val_loss: 0.1755 - val_accuracy: 0.9644\n",
            "Epoch 9/10\n",
            "1875/1875 [==============================] - 8s 4ms/step - loss: 0.1273 - accuracy: 0.9724 - val_loss: 0.1554 - val_accuracy: 0.9686\n",
            "Epoch 10/10\n",
            "1875/1875 [==============================] - 8s 4ms/step - loss: 0.1156 - accuracy: 0.9743 - val_loss: 0.1816 - val_accuracy: 0.9692\n",
            "313/313 [==============================] - 1s 2ms/step - loss: 0.1816 - accuracy: 0.9692\n",
            "> 96.920\n"
          ]
        }
      ]
    },
    {
      "cell_type": "markdown",
      "source": [
        "# Analysis Report"
      ],
      "metadata": {
        "id": "rV1cpaA-6egR"
      }
    },
    {
      "cell_type": "markdown",
      "source": [
        "2 Deep Learning Models using Neural Network architecture on the MNIST dataset were developed. First one has 2 NN layers and the second model uses 4 NN layers both with softmax layer activation at the top and relu activation function on other layers. <br> <br>\n",
        "\n",
        "For the first model,\n",
        "\n",
        "Number of Layers = 4\n",
        "\n",
        "Number of Trainable Parameters : 206,710\n",
        "\n",
        "Validation Accuracy = 96.72% \n",
        "\n",
        "Validation Loss = 0.2347 <br> <br>\n",
        "\n",
        "\n",
        "For the second model, \n",
        "\n",
        "Number of Layers = 4\n",
        "\n",
        "Validation Accuracy = 96.92% \n",
        "\n",
        "Validation Loss of = 0.1816\n",
        "\n",
        "Number of Trainable Parameters :252,428\n",
        "\n",
        "Clearly Second Model with better validation accuracy is having better performance.\n",
        "<br><br>\n",
        "\n",
        "**Submitted by,**\n",
        "\n",
        "**Aishwarya A J**\n",
        "\n",
        "**S5 CSE**\n",
        "\n",
        "**TVE19CS006**\n"
      ],
      "metadata": {
        "id": "_NI1U9nq6hK_"
      }
    }
  ]
}